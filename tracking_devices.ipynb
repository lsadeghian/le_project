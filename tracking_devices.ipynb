{
 "cells": [
  {
   "cell_type": "code",
   "execution_count": 1,
   "metadata": {
    "collapsed": true
   },
   "outputs": [],
   "source": [
    "from __future__ import absolute_import, division, print_function"
   ]
  },
  {
   "cell_type": "code",
   "execution_count": 2,
   "metadata": {
    "collapsed": false
   },
   "outputs": [
    {
     "name": "stderr",
     "output_type": "stream",
     "text": [
      "/Users/sadeghia/anaconda/lib/python2.7/site-packages/matplotlib/font_manager.py:273: UserWarning: Matplotlib is building the font cache using fc-list. This may take a moment.\n",
      "  warnings.warn('Matplotlib is building the font cache using fc-list. This may take a moment.')\n"
     ]
    }
   ],
   "source": [
    "import pymysql\n",
    "import numpy as np\n",
    "from geoip import geolite2\n",
    "from collections import Counter\n",
    "import seaborn as sns\n",
    "import random\n",
    "import matplotlib.pyplot as plt\n",
    "import math"
   ]
  },
  {
   "cell_type": "code",
   "execution_count": 3,
   "metadata": {
    "collapsed": false
   },
   "outputs": [],
   "source": [
    "db = pymysql.connect(host='localhost', user='root',passwd='leproject',db='ka_lite_central')"
   ]
  },
  {
   "cell_type": "code",
   "execution_count": 4,
   "metadata": {
    "collapsed": true
   },
   "outputs": [],
   "source": [
    "%matplotlib inline"
   ]
  },
  {
   "cell_type": "code",
   "execution_count": 5,
   "metadata": {
    "collapsed": true
   },
   "outputs": [],
   "source": [
    "cur = db.cursor()"
   ]
  },
  {
   "cell_type": "code",
   "execution_count": 6,
   "metadata": {
    "collapsed": false
   },
   "outputs": [
    {
     "data": {
      "text/plain": [
       "9059"
      ]
     },
     "execution_count": 6,
     "metadata": {},
     "output_type": "execute_result"
    }
   ],
   "source": [
    "cur.execute(\"Select client_device_id, MIN(timestamp) FROM securesync_country group by client_device_id;\")"
   ]
  },
  {
   "cell_type": "code",
   "execution_count": 7,
   "metadata": {
    "collapsed": false
   },
   "outputs": [
    {
     "data": {
      "text/plain": [
       "9059"
      ]
     },
     "execution_count": 7,
     "metadata": {},
     "output_type": "execute_result"
    }
   ],
   "source": [
    "cur.execute(\"select DISTINCT a.client_device_id, a.countryname FROM securesync_country as a join \\\n",
    "(Select client_device_id, MIN(timestamp) as mintime FROM securesync_country group by client_device_id) as b \\\n",
    "on a.client_device_id=b.client_device_id WHERE a.timestamp=b.mintime;\")"
   ]
  },
  {
   "cell_type": "code",
   "execution_count": 8,
   "metadata": {
    "collapsed": false
   },
   "outputs": [],
   "source": [
    "first_country = cur.fetchall()"
   ]
  },
  {
   "cell_type": "code",
   "execution_count": 9,
   "metadata": {
    "collapsed": false
   },
   "outputs": [
    {
     "data": {
      "text/plain": [
       "9059"
      ]
     },
     "execution_count": 9,
     "metadata": {},
     "output_type": "execute_result"
    }
   ],
   "source": [
    "cur.execute(\"select DISTINCT a.client_device_id, a.countryname FROM securesync_country as a join \\\n",
    "(Select client_device_id, MAX(timestamp) as max_time FROM securesync_country group by client_device_id) as b \\\n",
    "on a.client_device_id=b.client_device_id WHERE a.timestamp=b.max_time;\")"
   ]
  },
  {
   "cell_type": "code",
   "execution_count": 10,
   "metadata": {
    "collapsed": false
   },
   "outputs": [],
   "source": [
    "last_country = cur.fetchall()"
   ]
  },
  {
   "cell_type": "code",
   "execution_count": 11,
   "metadata": {
    "collapsed": false
   },
   "outputs": [],
   "source": [
    "device_paths = [(c_d_id, first, last) for (c_d_id, first),(c_d_id, last) in zip(first_country,last_country)]"
   ]
  },
  {
   "cell_type": "code",
   "execution_count": 12,
   "metadata": {
    "collapsed": false
   },
   "outputs": [],
   "source": [
    "device_paths;"
   ]
  },
  {
   "cell_type": "code",
   "execution_count": 13,
   "metadata": {
    "collapsed": false
   },
   "outputs": [],
   "source": [
    "paths = []\n",
    "for device_path in device_paths:\n",
    "    paths.append((device_path[1], device_path[2]))"
   ]
  },
  {
   "cell_type": "code",
   "execution_count": 14,
   "metadata": {
    "collapsed": false
   },
   "outputs": [],
   "source": [
    "paths;"
   ]
  },
  {
   "cell_type": "code",
   "execution_count": 15,
   "metadata": {
    "collapsed": false
   },
   "outputs": [
    {
     "data": {
      "text/plain": [
       "2009"
      ]
     },
     "execution_count": 15,
     "metadata": {},
     "output_type": "execute_result"
    }
   ],
   "source": [
    "len(set(paths))"
   ]
  },
  {
   "cell_type": "code",
   "execution_count": 16,
   "metadata": {
    "collapsed": false
   },
   "outputs": [],
   "source": [
    "counts = Counter(paths).most_common(40)"
   ]
  },
  {
   "cell_type": "code",
   "execution_count": 17,
   "metadata": {
    "collapsed": false
   },
   "outputs": [
    {
     "data": {
      "text/plain": [
       "[(('US', 'US'), 1017),\n",
       " (('US', 'IN'), 343),\n",
       " (('IN', 'US'), 323),\n",
       " (('PH', 'US'), 192),\n",
       " (('US', 'PH'), 174),\n",
       " (('US', 'ZA'), 127),\n",
       " (('US', 'GB'), 111),\n",
       " (('ZA', 'US'), 103),\n",
       " (('IN', 'IN'), 95),\n",
       " (('CA', 'US'), 90),\n",
       " (('US', 'CN'), 89),\n",
       " (('GB', 'US'), 87),\n",
       " (('US', 'CA'), 85),\n",
       " (('CN', 'US'), 80),\n",
       " (('US', 'AU'), 74),\n",
       " (('US', 'NG'), 72),\n",
       " (('NG', 'US'), 70),\n",
       " (('AU', 'US'), 69),\n",
       " (('US', 'ZM'), 56),\n",
       " (('IN', 'PH'), 52),\n",
       " (('PH', 'IN'), 49),\n",
       " (('US', 'BR'), 49),\n",
       " (('US', 'ES'), 49),\n",
       " (('US', 'PK'), 46),\n",
       " (('PK', 'US'), 45),\n",
       " (('BR', 'US'), 45),\n",
       " (('PH', 'PH'), 40),\n",
       " (('ZM', 'US'), 40),\n",
       " (('ZA', 'IN'), 37),\n",
       " (('ES', 'US'), 37),\n",
       " (('NL', 'US'), 36),\n",
       " (('US', 'GT'), 32),\n",
       " (('IN', 'ZA'), 32),\n",
       " (('NG', 'IN'), 31),\n",
       " (('US', 'DE'), 31),\n",
       " (('US', 'GH'), 30),\n",
       " (('DE', 'US'), 30),\n",
       " (('IN', 'CN'), 29),\n",
       " (('FR', 'US'), 29),\n",
       " (('GH', 'US'), 29)]"
      ]
     },
     "execution_count": 17,
     "metadata": {},
     "output_type": "execute_result"
    }
   ],
   "source": [
    "counts"
   ]
  },
  {
   "cell_type": "code",
   "execution_count": 18,
   "metadata": {
    "collapsed": false
   },
   "outputs": [
    {
     "name": "stdout",
     "output_type": "stream",
     "text": [
      "[(('US', 'US'), 1017), (('US', 'IN'), 343), (('IN', 'US'), 323), (('PH', 'US'), 192), (('US', 'PH'), 174), (('US', 'ZA'), 127), (('US', 'GB'), 111), (('ZA', 'US'), 103), (('IN', 'IN'), 95), (('CA', 'US'), 90), (('US', 'CN'), 89), (('GB', 'US'), 87), (('US', 'CA'), 85), (('CN', 'US'), 80), (('US', 'AU'), 74), (('US', 'NG'), 72), (('NG', 'US'), 70), (('AU', 'US'), 69), (('US', 'ZM'), 56), (('IN', 'PH'), 52), (('PH', 'IN'), 49), (('US', 'BR'), 49), (('US', 'ES'), 49), (('US', 'PK'), 46), (('PK', 'US'), 45), (('BR', 'US'), 45), (('PH', 'PH'), 40), (('ZM', 'US'), 40), (('ZA', 'IN'), 37), (('ES', 'US'), 37), (('NL', 'US'), 36), (('US', 'GT'), 32), (('IN', 'ZA'), 32), (('NG', 'IN'), 31), (('US', 'DE'), 31), (('US', 'GH'), 30), (('DE', 'US'), 30), (('FR', 'US'), 29)]\n"
     ]
    }
   ],
   "source": [
    "tmp_counts = counts\n",
    "for i in tmp_counts:\n",
    "    if int(i[1]) < 30:\n",
    "        counts.remove(i)\n",
    "print(counts)"
   ]
  },
  {
   "cell_type": "code",
   "execution_count": 19,
   "metadata": {
    "collapsed": false
   },
   "outputs": [
    {
     "name": "stdout",
     "output_type": "stream",
     "text": [
      "['AU', 'BR', 'CA', 'CN', 'DE', 'ES', 'FR', 'GB', 'GH', 'GT', 'IN', 'NG', 'NL', 'PH', 'PK', 'US', 'ZA', 'ZM']\n",
      "18\n"
     ]
    }
   ],
   "source": [
    "c_n = []\n",
    "for i in counts:\n",
    "    c_n.append(i[0][0])\n",
    "    c_n.append(i[0][1])\n",
    "c_n_list = sorted(set(c_n))\n",
    "print(c_n_list)\n",
    "print (len(c_n_list))"
   ]
  },
  {
   "cell_type": "code",
   "execution_count": 20,
   "metadata": {
    "collapsed": false
   },
   "outputs": [],
   "source": [
    "htb_c_n_list = {}\n",
    "cnt = 0\n",
    "for u in c_n_list:\n",
    "    htb_c_n_list[u] = cnt\n",
    "    cnt +=1\n",
    "#htb_c_n_list"
   ]
  },
  {
   "cell_type": "code",
   "execution_count": 21,
   "metadata": {
    "collapsed": false
   },
   "outputs": [],
   "source": [
    "final_list = np.zeros((len(c_n_list), len(c_n_list)))"
   ]
  },
  {
   "cell_type": "code",
   "execution_count": 22,
   "metadata": {
    "collapsed": false
   },
   "outputs": [],
   "source": [
    "for i in counts:\n",
    "#    print(i)\n",
    "    ini = htb_c_n_list[i[0][0]]\n",
    "    fi = htb_c_n_list[i[0][1]]\n",
    "    final_list[ini][fi]=i[1]\n",
    "#    print(ini, fi, i[1])\n",
    "#    print(final_list[ini][fi])"
   ]
  },
  {
   "cell_type": "code",
   "execution_count": 23,
   "metadata": {
    "collapsed": true
   },
   "outputs": [],
   "source": [
    "sns.set(style=\"white\")\n",
    "# Generate a mask for the upper triangle\n",
    "mask = np.zeros_like(final_list, dtype=np.bool)\n",
    "mask[np.triu_indices_from(mask)] = True"
   ]
  },
  {
   "cell_type": "code",
   "execution_count": 33,
   "metadata": {
    "collapsed": false
   },
   "outputs": [
    {
     "ename": "AttributeError",
     "evalue": "'Figure' object has no attribute 'get_xticklabels'",
     "output_type": "error",
     "traceback": [
      "\u001b[0;31m---------------------------------------------------------------------------\u001b[0m",
      "\u001b[0;31mAttributeError\u001b[0m                            Traceback (most recent call last)",
      "\u001b[0;32m<ipython-input-33-31ac6467d881>\u001b[0m in \u001b[0;36m<module>\u001b[0;34m()\u001b[0m\n\u001b[1;32m      3\u001b[0m \u001b[0msns\u001b[0m\u001b[0;34m.\u001b[0m\u001b[0mheatmap\u001b[0m\u001b[0;34m(\u001b[0m\u001b[0mfinal_list\u001b[0m\u001b[0;34m,\u001b[0m \u001b[0mlinewidths\u001b[0m\u001b[0;34m=\u001b[0m\u001b[0;36m.5\u001b[0m\u001b[0;34m,\u001b[0m \u001b[0mannot\u001b[0m\u001b[0;34m=\u001b[0m\u001b[0mTrue\u001b[0m\u001b[0;34m,\u001b[0m \u001b[0mannot_kws\u001b[0m\u001b[0;34m=\u001b[0m\u001b[0;34m{\u001b[0m\u001b[0;34m\"size\"\u001b[0m\u001b[0;34m:\u001b[0m \u001b[0;36m8\u001b[0m\u001b[0;34m}\u001b[0m\u001b[0;34m)\u001b[0m\u001b[0;34m\u001b[0m\u001b[0m\n\u001b[1;32m      4\u001b[0m \u001b[0mnames\u001b[0m \u001b[0;34m=\u001b[0m \u001b[0;34m[\u001b[0m\u001b[0mi\u001b[0m \u001b[0;32mfor\u001b[0m \u001b[0mi\u001b[0m \u001b[0;32min\u001b[0m \u001b[0mhtb_c_n_list\u001b[0m\u001b[0;34m]\u001b[0m\u001b[0;34m\u001b[0m\u001b[0m\n\u001b[0;32m----> 5\u001b[0;31m \u001b[0;32mfor\u001b[0m \u001b[0mticklabel\u001b[0m \u001b[0;32min\u001b[0m \u001b[0mfig\u001b[0m\u001b[0;34m.\u001b[0m\u001b[0mget_xticklabels\u001b[0m\u001b[0;34m(\u001b[0m\u001b[0;34m)\u001b[0m\u001b[0;34m:\u001b[0m\u001b[0;34m\u001b[0m\u001b[0m\n\u001b[0m\u001b[1;32m      6\u001b[0m      \u001b[0;32mprint\u001b[0m \u001b[0;34m(\u001b[0m\u001b[0mticklabel\u001b[0m\u001b[0;34m.\u001b[0m\u001b[0mget_text\u001b[0m\u001b[0;34m(\u001b[0m\u001b[0mnames\u001b[0m\u001b[0;34m.\u001b[0m\u001b[0mpop\u001b[0m\u001b[0;34m(\u001b[0m\u001b[0;34m)\u001b[0m\u001b[0;34m)\u001b[0m \u001b[0;34m)\u001b[0m\u001b[0;34m\u001b[0m\u001b[0m\n\u001b[1;32m      7\u001b[0m \u001b[0;31m#plt.xlabel()\u001b[0m\u001b[0;34m\u001b[0m\u001b[0;34m\u001b[0m\u001b[0m\n",
      "\u001b[0;31mAttributeError\u001b[0m: 'Figure' object has no attribute 'get_xticklabels'"
     ]
    },
    {
     "data": {
      "image/png": "[encoded data removed]",
      "text/plain": [
       "<matplotlib.figure.Figure at 0x121e55050>"
      ]
     },
     "metadata": {},
     "output_type": "display_data"
    }
   ],
   "source": [
    "fig = plt.figure(figsize=(12,12))\n",
    "#sns.heatmap(final_list,mask=mask, linewidths=.5, annot=True, annot_kws={\"size\": 8})\n",
    "sns.heatmap(final_list, linewidths=.5, annot=True, annot_kws={\"size\": 8})\n",
    "names = [i for i in htb_c_n_list]\n",
    "axes = fig.ex\n",
    "for ticklabel in axes.get_xticklabels():\n",
    "     print (ticklabel.get_text(names.pop()) )\n",
    "#plt.xlabel()"
   ]
  },
  {
   "cell_type": "code",
   "execution_count": 25,
   "metadata": {
    "collapsed": false
   },
   "outputs": [],
   "source": [
    "# fig = plt.figure()\n",
    "# plt.imshow(final_list)\n",
    "# plt.show()"
   ]
  },
  {
   "cell_type": "code",
   "execution_count": null,
   "metadata": {
    "collapsed": true
   },
   "outputs": [],
   "source": []
  },
  {
   "cell_type": "code",
   "execution_count": null,
   "metadata": {
    "collapsed": true
   },
   "outputs": [],
   "source": []
  },
  {
   "cell_type": "code",
   "execution_count": null,
   "metadata": {
    "collapsed": true
   },
   "outputs": [],
   "source": []
  },
  {
   "cell_type": "code",
   "execution_count": null,
   "metadata": {
    "collapsed": true
   },
   "outputs": [],
   "source": []
  },
  {
   "cell_type": "code",
   "execution_count": null,
   "metadata": {
    "collapsed": true
   },
   "outputs": [],
   "source": []
  },
  {
   "cell_type": "code",
   "execution_count": null,
   "metadata": {
    "collapsed": true
   },
   "outputs": [],
   "source": []
  }
 ],
 "metadata": {
  "kernelspec": {
   "display_name": "Python 2",
   "language": "python",
   "name": "python2"
  },
  "language_info": {
   "codemirror_mode": {
    "name": "ipython",
    "version": 2
   },
   "file_extension": ".py",
   "mimetype": "text/x-python",
   "name": "python",
   "nbconvert_exporter": "python",
   "pygments_lexer": "ipython2",
   "version": "2.7.11"
  }
 },
 "nbformat": 4,
 "nbformat_minor": 0
}
