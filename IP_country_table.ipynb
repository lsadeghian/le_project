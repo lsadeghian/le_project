{
 "cells": [
  {
   "cell_type": "code",
   "execution_count": 1,
   "metadata": {
    "collapsed": true
   },
   "outputs": [],
   "source": [
    "from __future__ import absolute_import, division, print_function"
   ]
  },
  {
   "cell_type": "code",
   "execution_count": 2,
   "metadata": {
    "collapsed": true
   },
   "outputs": [],
   "source": [
    "import pymysql\n",
    "import numpy as np\n",
    "from geoip import geolite2"
   ]
  },
  {
   "cell_type": "code",
   "execution_count": 5,
   "metadata": {
    "collapsed": false
   },
   "outputs": [],
   "source": [
    "db = pymysql.connect(host='localhost', user='root',passwd='leproject',db='ka_lite_central')"
   ]
  },
  {
   "cell_type": "code",
   "execution_count": 6,
   "metadata": {
    "collapsed": true
   },
   "outputs": [],
   "source": [
    "cur = db.cursor()"
   ]
  },
  {
   "cell_type": "code",
   "execution_count": 7,
   "metadata": {
    "collapsed": false
   },
   "outputs": [
    {
     "data": {
      "text/plain": [
       "0"
      ]
     },
     "execution_count": 7,
     "metadata": {},
     "output_type": "execute_result"
    }
   ],
   "source": [
    "cur.execute(\"CREATE TABLE securesync_country (id serial PRIMARY KEY,\\\n",
    "    client_device_id varchar(32),\\\n",
    "    ip varchar(50),\\\n",
    "    countryname varchar(50),\\\n",
    "    timestamp datetime\\\n",
    "    );\")"
   ]
  },
  {
   "cell_type": "code",
   "execution_count": 8,
   "metadata": {
    "collapsed": false
   },
   "outputs": [
    {
     "data": {
      "text/plain": [
       "1232969"
      ]
     },
     "execution_count": 8,
     "metadata": {},
     "output_type": "execute_result"
    }
   ],
   "source": [
    "cur.execute(\"SELECT client_device_id, ip, timestamp FROM securesync_syncsession;\")"
   ]
  },
  {
   "cell_type": "code",
   "execution_count": 9,
   "metadata": {
    "collapsed": true
   },
   "outputs": [],
   "source": [
    "results=cur.fetchall()"
   ]
  },
  {
   "cell_type": "code",
   "execution_count": 10,
   "metadata": {
    "collapsed": false
   },
   "outputs": [],
   "source": [
    "client_device_ids = [item[0] for item in results]\n",
    "ips = [item[1] for item in results]\n",
    "timestamps = [item[2] for item in results]"
   ]
  },
  {
   "cell_type": "code",
   "execution_count": 11,
   "metadata": {
    "collapsed": false
   },
   "outputs": [],
   "source": [
    "for client_device_id,ip,timestamp in zip(client_device_ids,ips,timestamps):\n",
    "    try:\n",
    "        geo = geolite2.lookup(ip.split(',')[0])\n",
    "        if geo is not None:\n",
    "            countryname = geo.country\n",
    "        else: \n",
    "            countryname = 'XXXXX'\n",
    "        cur.execute(\"INSERT INTO securesync_country (\\\n",
    "                    client_device_id,\\\n",
    "                    ip,\\\n",
    "                    countryname,\\\n",
    "                    timestamp\\\n",
    "                        )\\\n",
    "                    VALUES (\\\n",
    "                    %s,%s,%s,%s\\\n",
    "                    )\",(client_device_id,ip,countryname,timestamp )\\\n",
    "                   )\n",
    "    except ValueError:\n",
    "        pass"
   ]
  },
  {
   "cell_type": "code",
   "execution_count": 12,
   "metadata": {
    "collapsed": false
   },
   "outputs": [],
   "source": [
    "db.commit()"
   ]
  }
 ],
 "metadata": {
  "kernelspec": {
   "display_name": "Python 2",
   "language": "python",
   "name": "python2"
  },
  "language_info": {
   "codemirror_mode": {
    "name": "ipython",
    "version": 2
   },
   "file_extension": ".py",
   "mimetype": "text/x-python",
   "name": "python",
   "nbconvert_exporter": "python",
   "pygments_lexer": "ipython2",
   "version": "2.7.11"
  }
 },
 "nbformat": 4,
 "nbformat_minor": 0
}
